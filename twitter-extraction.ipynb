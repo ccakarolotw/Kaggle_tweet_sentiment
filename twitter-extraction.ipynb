{
 "cells": [
  {
   "cell_type": "code",
   "execution_count": 379,
   "metadata": {
    "_cell_guid": "b1076dfc-b9ad-4769-8c92-a6c4dae69d19",
    "_uuid": "8f2839f25d086af736a60e9eeb907d3b93b6e0e5"
   },
   "outputs": [],
   "source": [
    "# This Python 3 environment comes with many helpful analytics libraries installed\n",
    "# It is defined by the kaggle/python Docker image: https://github.com/kaggle/docker-python\n",
    "# For example, here's several helpful packages to load\n",
    "\n",
    "import numpy as np # linear algebra\n",
    "import pandas as pd # data processing, CSV file I/O (e.g. pd.read_csv)\n",
    "\n",
    "# Input data files are available in the read-only \"../input/\" directory\n",
    "# For example, running this (by clicking run or pressing Shift+Enter) will list all files under the input directory\n",
    "\n",
    "import os\n",
    "for dirname, _, filenames in os.walk('/kaggle/input'):\n",
    "    for filename in filenames:\n",
    "        print(os.path.join(dirname, filename))\n",
    "\n",
    "# You can write up to 5GB to the current directory (/kaggle/working/) that gets preserved as output when you create a version using \"Save & Run All\" \n",
    "# You can also write temporary files to /kaggle/temp/, but they won't be saved outside of the current session\n",
    "\n",
    "from sklearn.model_selection import train_test_split\n",
    "import re\n",
    "from string import punctuation"
   ]
  },
  {
   "cell_type": "code",
   "execution_count": 380,
   "metadata": {},
   "outputs": [
    {
     "name": "stderr",
     "output_type": "stream",
     "text": [
      "[nltk_data] Downloading package stopwords to C:\\Users\\l-Ju\n",
      "[nltk_data]     Chen\\AppData\\Roaming\\nltk_data...\n",
      "[nltk_data]   Package stopwords is already up-to-date!\n"
     ]
    }
   ],
   "source": [
    "import numpy as np # linear algebra\n",
    "import pandas as pd # data processing, CSV file I/O (e.g. pd.read_csv)\n",
    "import os\n",
    "from sklearn.model_selection import train_test_split\n",
    "import re\n",
    "from string import punctuation\n",
    "from collections import Counter\n",
    "from nltk.stem.wordnet import WordNetLemmatizer\n",
    "import nltk\n",
    "#nltk.download('wordnet')\n",
    "nltk.download('stopwords')\n",
    "from nltk.corpus import stopwords\n"
   ]
  },
  {
   "cell_type": "code",
   "execution_count": 393,
   "metadata": {
    "_cell_guid": "79c7e3d0-c299-4dcb-8224-4455121ee9b0",
    "_uuid": "d629ff2d2480ee46fbb7e2d37f6b5fab8052498a"
   },
   "outputs": [],
   "source": [
    "path='C:/Users/l-Ju Chen/Documents/GitHub/Kaggle_tweet_sentiment/'\n",
    "data=pd.read_csv(path+'train.csv')\n",
    "test_data=pd.read_csv(path+'test.csv')\n",
    "sample_submission=pd.read_csv(path+'sample_submission.csv')"
   ]
  },
  {
   "cell_type": "code",
   "execution_count": 394,
   "metadata": {},
   "outputs": [],
   "source": [
    "data.dropna(axis = 0, how ='any',inplace=True)"
   ]
  },
  {
   "cell_type": "code",
   "execution_count": 396,
   "metadata": {},
   "outputs": [
    {
     "name": "stdout",
     "output_type": "stream",
     "text": [
      "{'neutral', 'negative', 'positive'}\n"
     ]
    },
    {
     "data": {
      "text/html": [
       "<div>\n",
       "<style scoped>\n",
       "    .dataframe tbody tr th:only-of-type {\n",
       "        vertical-align: middle;\n",
       "    }\n",
       "\n",
       "    .dataframe tbody tr th {\n",
       "        vertical-align: top;\n",
       "    }\n",
       "\n",
       "    .dataframe thead th {\n",
       "        text-align: right;\n",
       "    }\n",
       "</style>\n",
       "<table border=\"1\" class=\"dataframe\">\n",
       "  <thead>\n",
       "    <tr style=\"text-align: right;\">\n",
       "      <th></th>\n",
       "      <th>textID</th>\n",
       "      <th>text</th>\n",
       "      <th>selected_text</th>\n",
       "      <th>sentiment</th>\n",
       "    </tr>\n",
       "  </thead>\n",
       "  <tbody>\n",
       "    <tr>\n",
       "      <td>0</td>\n",
       "      <td>cb774db0d1</td>\n",
       "      <td>I`d have responded, if I were going</td>\n",
       "      <td>I`d have responded, if I were going</td>\n",
       "      <td>neutral</td>\n",
       "    </tr>\n",
       "    <tr>\n",
       "      <td>1</td>\n",
       "      <td>549e992a42</td>\n",
       "      <td>Sooo SAD I will miss you here in San Diego!!!</td>\n",
       "      <td>Sooo SAD</td>\n",
       "      <td>negative</td>\n",
       "    </tr>\n",
       "    <tr>\n",
       "      <td>2</td>\n",
       "      <td>088c60f138</td>\n",
       "      <td>my boss is bullying me...</td>\n",
       "      <td>bullying me</td>\n",
       "      <td>negative</td>\n",
       "    </tr>\n",
       "    <tr>\n",
       "      <td>3</td>\n",
       "      <td>9642c003ef</td>\n",
       "      <td>what interview! leave me alone</td>\n",
       "      <td>leave me alone</td>\n",
       "      <td>negative</td>\n",
       "    </tr>\n",
       "    <tr>\n",
       "      <td>4</td>\n",
       "      <td>358bd9e861</td>\n",
       "      <td>Sons of ****, why couldn`t they put them on t...</td>\n",
       "      <td>Sons of ****,</td>\n",
       "      <td>negative</td>\n",
       "    </tr>\n",
       "    <tr>\n",
       "      <td>5</td>\n",
       "      <td>28b57f3990</td>\n",
       "      <td>http://www.dothebouncy.com/smf - some shameles...</td>\n",
       "      <td>http://www.dothebouncy.com/smf - some shameles...</td>\n",
       "      <td>neutral</td>\n",
       "    </tr>\n",
       "    <tr>\n",
       "      <td>6</td>\n",
       "      <td>6e0c6d75b1</td>\n",
       "      <td>2am feedings for the baby are fun when he is a...</td>\n",
       "      <td>fun</td>\n",
       "      <td>positive</td>\n",
       "    </tr>\n",
       "    <tr>\n",
       "      <td>7</td>\n",
       "      <td>50e14c0bb8</td>\n",
       "      <td>Soooo high</td>\n",
       "      <td>Soooo high</td>\n",
       "      <td>neutral</td>\n",
       "    </tr>\n",
       "    <tr>\n",
       "      <td>8</td>\n",
       "      <td>e050245fbd</td>\n",
       "      <td>Both of you</td>\n",
       "      <td>Both of you</td>\n",
       "      <td>neutral</td>\n",
       "    </tr>\n",
       "    <tr>\n",
       "      <td>9</td>\n",
       "      <td>fc2cbefa9d</td>\n",
       "      <td>Journey!? Wow... u just became cooler.  hehe....</td>\n",
       "      <td>Wow... u just became cooler.</td>\n",
       "      <td>positive</td>\n",
       "    </tr>\n",
       "  </tbody>\n",
       "</table>\n",
       "</div>"
      ],
      "text/plain": [
       "       textID                                               text  \\\n",
       "0  cb774db0d1                I`d have responded, if I were going   \n",
       "1  549e992a42      Sooo SAD I will miss you here in San Diego!!!   \n",
       "2  088c60f138                          my boss is bullying me...   \n",
       "3  9642c003ef                     what interview! leave me alone   \n",
       "4  358bd9e861   Sons of ****, why couldn`t they put them on t...   \n",
       "5  28b57f3990  http://www.dothebouncy.com/smf - some shameles...   \n",
       "6  6e0c6d75b1  2am feedings for the baby are fun when he is a...   \n",
       "7  50e14c0bb8                                         Soooo high   \n",
       "8  e050245fbd                                        Both of you   \n",
       "9  fc2cbefa9d   Journey!? Wow... u just became cooler.  hehe....   \n",
       "\n",
       "                                       selected_text sentiment  \n",
       "0                I`d have responded, if I were going   neutral  \n",
       "1                                           Sooo SAD  negative  \n",
       "2                                        bullying me  negative  \n",
       "3                                     leave me alone  negative  \n",
       "4                                      Sons of ****,  negative  \n",
       "5  http://www.dothebouncy.com/smf - some shameles...   neutral  \n",
       "6                                                fun  positive  \n",
       "7                                         Soooo high   neutral  \n",
       "8                                        Both of you   neutral  \n",
       "9                       Wow... u just became cooler.  positive  "
      ]
     },
     "execution_count": 396,
     "metadata": {},
     "output_type": "execute_result"
    }
   ],
   "source": [
    "print(set(data['sentiment']))\n",
    "y=data['selected_text']\n",
    "#X=data.drop(columns=['selected_text'])\n",
    "X=data\n",
    "X.head(n=10)"
   ]
  },
  {
   "cell_type": "code",
   "execution_count": 397,
   "metadata": {},
   "outputs": [],
   "source": [
    "X_train, X_test, y_train, y_test = train_test_split(X, y,test_size=0.15)"
   ]
  },
  {
   "cell_type": "code",
   "execution_count": 385,
   "metadata": {},
   "outputs": [],
   "source": [
    "def clean(text):\n",
    "    #text = re.sub('\\[.*?\\]', '', text)\n",
    "    text = re.sub('https?://\\S+|www\\.\\S+', '', text)\n",
    "    text = re.sub('<.*?>+', '', text)\n",
    "    #text = re.sub('[%s]' % re.escape(punctuation), '', text)\n",
    "    text = re.sub('\\n', '', text)\n",
    "    text = re.sub('\\w*\\d\\w*', '', text)\n",
    "    return text.lower()"
   ]
  },
  {
   "cell_type": "code",
   "execution_count": 449,
   "metadata": {},
   "outputs": [],
   "source": [
    "def get_column_from_sentiment(sentiment,column):\n",
    "    selected_data=X_train.loc[X_train['sentiment'] == sentiment]\n",
    "    return selected_data[column]\n",
    "def get_word_count(column):\n",
    "    all_text=\"\".join(column)\n",
    "    all_text=clean(all_text)\n",
    "    all_text=all_text.split(' ')\n",
    "    all_text = list(filter(None, all_text))\n",
    "    #all_text = [WordNetLemmatizer().lemmatize(w, pos='v') for w in all_text]\n",
    "    #all_text = [w for w in all_text if w not in stopwords.words(\"english\")]\n",
    "    total=len(all_text)\n",
    "    counts = Counter(all_text)\n",
    "    for item, count in counts.items():\n",
    "        counts[item] /= total\n",
    "    return counts"
   ]
  },
  {
   "cell_type": "code",
   "execution_count": 387,
   "metadata": {},
   "outputs": [],
   "source": [
    "text=X_train['text']\n",
    "selected_text=y_train\n",
    "\n",
    "text=\"\".join(text)\n",
    "selected_text=\"\".join(selected_text)\n",
    "\n",
    "text=clean(text)\n",
    "selected_text=clean(selected_text)\n",
    "#print(clean_all_positive_text)\n",
    "text=text.split(' ')\n",
    "selected_text=selected_text.split(' ')\n",
    "\n",
    "text = list(filter(None, text))\n",
    "selected_text = list(filter(None, selected_text))\n",
    "\n",
    "text_counter = get_word_count(text)\n",
    "\n",
    "list_difference = [item for item in text if item not in selected_text]"
   ]
  },
  {
   "cell_type": "code",
   "execution_count": 388,
   "metadata": {},
   "outputs": [],
   "source": [
    "def column_to_list(column):\n",
    "    text=\"\".join(column)\n",
    "    text=clean(text)\n",
    "    text=text.split(' ')\n",
    "    text = list(filter(None, text))\n",
    "    return text\n",
    "\n",
    "def get_list_difference(column_mother,column_child):\n",
    "    list_mother=column_to_list(column_mother)\n",
    "    list_child=column_to_list(column_child)\n",
    "    list_difference = [item for item in list_mother if item not in list_child]\n",
    "    return list_difference"
   ]
  },
  {
   "cell_type": "code",
   "execution_count": 446,
   "metadata": {},
   "outputs": [
    {
     "name": "stdout",
     "output_type": "stream",
     "text": [
      "33\n",
      "None\n"
     ]
    }
   ],
   "source": [
    "def get_length(sentence):\n",
    "    words=sentence.split(' ')\n",
    "    words = list(filter(None, words))\n",
    "    return len(words)\n",
    "def average_length(column):\n",
    "    length=[]\n",
    "    for i in range(len(column)):\n",
    "        sentence=column.iloc[i]\n",
    "        length.append(get_length(sentence))\n",
    "    print(np.max(length))\n",
    "print(average_length(X_train['selected_text']))"
   ]
  },
  {
   "cell_type": "code",
   "execution_count": 389,
   "metadata": {},
   "outputs": [],
   "source": [
    "positive_counter=get_word_count(get_column_from_sentiment('positive'))\n",
    "negative_counter=get_word_count(get_column_from_sentiment('negative'))\n",
    "neutral_counter=get_word_count(get_column_from_sentiment('neutral'))\n",
    "positive_list=list(positive_counter.keys())\n",
    "negative_list=list(negative_counter.keys())\n",
    "neutral_list=list(neutral_counter.keys())\n",
    "common_elements = list(set(positive_list).intersection(set(negative_list)))\n",
    "common_elements = list(set(common_elements).intersection(set(neutral_list)))\n",
    "no_words=[]\n",
    "neighbor=0\n",
    "for w in common_elements:\n",
    "    if (positive_counter[w]> (1-neighbor)*negative_counter[w] and positive_counter[w]< (1+neighbor)*negative_counter[w]) and (neutral_counter[w]> (1-neighbor)*negative_counter[w] and neutral_counter[w]< (1+neighbor)*negative_counter[w]):\n",
    "        no_words.append(w)\n",
    "print(no_words)"
   ]
  },
  {
   "cell_type": "code",
   "execution_count": 461,
   "metadata": {},
   "outputs": [],
   "source": [
    "def freq_comparison(column_parent,column_child):\n",
    "    parent_count=get_word_count(column_parent)\n",
    "    child_count=get_word_count(column_child)\n",
    "    remove_list=[]\n",
    "    for w in parent_count:\n",
    "        if w not in child_count:\n",
    "            remove_list.append(w)\n",
    "        elif parent_count[w] > 4* child_count[w]:\n",
    "            remove_list.append(w)\n",
    "    return remove_list\n",
    "\n",
    "positive=X_train.loc[X_train['sentiment'] == 'positive']\n",
    "remove_list_positive=freq_comparison(positive['text'],positive['selected_text'])\n",
    "neutral=X_train.loc[X_train['sentiment'] == 'neutral']\n",
    "remove_list_neutral=freq_comparison(neutral['text'],neutral['selected_text'])\n",
    "negative=X_train.loc[X_train['sentiment'] == 'negative']\n",
    "remove_list_negative=freq_comparison(negative['text'],negative['selected_text'])"
   ]
  },
  {
   "cell_type": "code",
   "execution_count": 454,
   "metadata": {},
   "outputs": [
    {
     "name": "stdout",
     "output_type": "stream",
     "text": [
      "5210\n"
     ]
    }
   ],
   "source": [
    "positive=X_train.loc[X_train['sentiment'] == 'positive']\n",
    "remove_list_positive=get_list_difference(positive['text'],positive['selected_text'])\n",
    "print(len(set(remove_list_positive)))"
   ]
  },
  {
   "cell_type": "code",
   "execution_count": 403,
   "metadata": {},
   "outputs": [],
   "source": [
    "neutral=X_train.loc[X_train['sentiment'] == 'neutral']\n",
    "remove_list_neutral=get_list_difference(neutral['text'],neutral['selected_text'])"
   ]
  },
  {
   "cell_type": "code",
   "execution_count": 405,
   "metadata": {},
   "outputs": [],
   "source": [
    "negative=X_train.loc[X_train['sentiment'] == 'negative']\n",
    "remove_list_negative=get_list_difference(negative['text'],negative['selected_text'])"
   ]
  },
  {
   "cell_type": "code",
   "execution_count": 406,
   "metadata": {},
   "outputs": [
    {
     "name": "stdout",
     "output_type": "stream",
     "text": [
      "7908\n"
     ]
    }
   ],
   "source": [
    "print(len(remove_list_negative))"
   ]
  },
  {
   "cell_type": "code",
   "execution_count": 463,
   "metadata": {},
   "outputs": [],
   "source": [
    "def predict(sentence,sentiment):\n",
    "    sentence=clean(sentence)\n",
    "    words=sentence.lower().split()\n",
    "    if sentiment=='positive':\n",
    "        remove_list=remove_list_positive\n",
    "    if sentiment=='neutral':\n",
    "        remove_list=[]\n",
    "    if sentiment=='negative':\n",
    "        remove_list=remove_list_negative\n",
    "    selected_words=[w for w in words if w not in remove_list]\n",
    "    #if len(selected_words)>33:\n",
    "     #   selected_words = [w for w in selected_words if w not in stopwords.words(\"english\")]\n",
    "    selected_words=' '.join(selected_words)\n",
    "    return selected_words\n",
    "    \n",
    "#select=predict('Sooo SAD I will miss you here in San Diego!!!')\n",
    "#print(select)"
   ]
  },
  {
   "cell_type": "code",
   "execution_count": 424,
   "metadata": {},
   "outputs": [
    {
     "data": {
      "text/html": [
       "<div>\n",
       "<style scoped>\n",
       "    .dataframe tbody tr th:only-of-type {\n",
       "        vertical-align: middle;\n",
       "    }\n",
       "\n",
       "    .dataframe tbody tr th {\n",
       "        vertical-align: top;\n",
       "    }\n",
       "\n",
       "    .dataframe thead th {\n",
       "        text-align: right;\n",
       "    }\n",
       "</style>\n",
       "<table border=\"1\" class=\"dataframe\">\n",
       "  <thead>\n",
       "    <tr style=\"text-align: right;\">\n",
       "      <th></th>\n",
       "      <th>textID</th>\n",
       "      <th>text</th>\n",
       "      <th>selected_text</th>\n",
       "      <th>sentiment</th>\n",
       "    </tr>\n",
       "  </thead>\n",
       "  <tbody>\n",
       "    <tr>\n",
       "      <td>15722</td>\n",
       "      <td>5c452788b2</td>\n",
       "      <td>The fam back on the Big Island said the vog ha...</td>\n",
       "      <td>bad</td>\n",
       "      <td>negative</td>\n",
       "    </tr>\n",
       "    <tr>\n",
       "      <td>6692</td>\n",
       "      <td>77e8ffdd9b</td>\n",
       "      <td>why did i agree to work a double shift</td>\n",
       "      <td>why did i agree to work a double shift</td>\n",
       "      <td>neutral</td>\n",
       "    </tr>\n",
       "    <tr>\n",
       "      <td>25433</td>\n",
       "      <td>a7ab603a60</td>\n",
       "      <td>I`ve had that 'problem' too, being charmed fa...</td>\n",
       "      <td>'problem'</td>\n",
       "      <td>negative</td>\n",
       "    </tr>\n",
       "    <tr>\n",
       "      <td>14801</td>\n",
       "      <td>50478b34e4</td>\n",
       "      <td>I know I`m already a week behind on FF. Will T...</td>\n",
       "      <td>problems</td>\n",
       "      <td>negative</td>\n",
       "    </tr>\n",
       "    <tr>\n",
       "      <td>15059</td>\n",
       "      <td>cc0945a961</td>\n",
       "      <td>alredy had my chocolate  it is impossible to ...</td>\n",
       "      <td>it is impossible to resist ;)</td>\n",
       "      <td>positive</td>\n",
       "    </tr>\n",
       "  </tbody>\n",
       "</table>\n",
       "</div>"
      ],
      "text/plain": [
       "           textID                                               text  \\\n",
       "15722  5c452788b2  The fam back on the Big Island said the vog ha...   \n",
       "6692   77e8ffdd9b             why did i agree to work a double shift   \n",
       "25433  a7ab603a60   I`ve had that 'problem' too, being charmed fa...   \n",
       "14801  50478b34e4  I know I`m already a week behind on FF. Will T...   \n",
       "15059  cc0945a961   alredy had my chocolate  it is impossible to ...   \n",
       "\n",
       "                                selected_text sentiment  \n",
       "15722                                     bad  negative  \n",
       "6692   why did i agree to work a double shift   neutral  \n",
       "25433                               'problem'  negative  \n",
       "14801                                problems  negative  \n",
       "15059           it is impossible to resist ;)  positive  "
      ]
     },
     "execution_count": 424,
     "metadata": {},
     "output_type": "execute_result"
    }
   ],
   "source": []
  },
  {
   "cell_type": "code",
   "execution_count": 425,
   "metadata": {},
   "outputs": [],
   "source": [
    "def jaccard(str1, str2): \n",
    "    a = set(str1.lower().split()) \n",
    "    b = set(str2.lower().split())\n",
    "    c = a.intersection(b)\n",
    "    return float(len(c)) / (len(a) + len(b) - len(c))"
   ]
  },
  {
   "cell_type": "code",
   "execution_count": 464,
   "metadata": {},
   "outputs": [
    {
     "name": "stdout",
     "output_type": "stream",
     "text": [
      "0.5772976248668509\n"
     ]
    }
   ],
   "source": [
    "jac=[]\n",
    "for i in range(X_test.shape[0]): \n",
    "    sentence=X_test['text'].iloc[i]\n",
    "    sentiment=X_test['sentiment'].iloc[i]\n",
    "    selected_sentence=y_test.iloc[i]\n",
    "    if len(sentence.split())>5:\n",
    "        prediction=predict(sentence,sentiment)\n",
    "    else:\n",
    "        prediction=sentence\n",
    "    jac.append(jaccard(selected_sentence,prediction))\n",
    "    #X_test['our_selection'].iloc[i]=prediction\n",
    "print(np.mean(jac))"
   ]
  },
  {
   "cell_type": "code",
   "execution_count": 435,
   "metadata": {},
   "outputs": [
    {
     "data": {
      "text/html": [
       "<div>\n",
       "<style scoped>\n",
       "    .dataframe tbody tr th:only-of-type {\n",
       "        vertical-align: middle;\n",
       "    }\n",
       "\n",
       "    .dataframe tbody tr th {\n",
       "        vertical-align: top;\n",
       "    }\n",
       "\n",
       "    .dataframe thead th {\n",
       "        text-align: right;\n",
       "    }\n",
       "</style>\n",
       "<table border=\"1\" class=\"dataframe\">\n",
       "  <thead>\n",
       "    <tr style=\"text-align: right;\">\n",
       "      <th></th>\n",
       "      <th>textID</th>\n",
       "      <th>text</th>\n",
       "      <th>selected_text</th>\n",
       "      <th>sentiment</th>\n",
       "      <th>our_selection</th>\n",
       "    </tr>\n",
       "  </thead>\n",
       "  <tbody>\n",
       "    <tr>\n",
       "      <td>15722</td>\n",
       "      <td>5c452788b2</td>\n",
       "      <td>The fam back on the Big Island said the vog ha...</td>\n",
       "      <td>bad</td>\n",
       "      <td>negative</td>\n",
       "      <td>the back on the big said the vog has been so b...</td>\n",
       "    </tr>\n",
       "    <tr>\n",
       "      <td>6692</td>\n",
       "      <td>77e8ffdd9b</td>\n",
       "      <td>why did i agree to work a double shift</td>\n",
       "      <td>why did i agree to work a double shift</td>\n",
       "      <td>neutral</td>\n",
       "      <td>why did i agree to work a double shift</td>\n",
       "    </tr>\n",
       "    <tr>\n",
       "      <td>25433</td>\n",
       "      <td>a7ab603a60</td>\n",
       "      <td>I`ve had that 'problem' too, being charmed fa...</td>\n",
       "      <td>'problem'</td>\n",
       "      <td>negative</td>\n",
       "      <td>i`ve had that 'problem' being charmed i mean. ...</td>\n",
       "    </tr>\n",
       "    <tr>\n",
       "      <td>14801</td>\n",
       "      <td>50478b34e4</td>\n",
       "      <td>I know I`m already a week behind on FF. Will T...</td>\n",
       "      <td>problems</td>\n",
       "      <td>negative</td>\n",
       "      <td>i know i`m already a week on ff. will try to g...</td>\n",
       "    </tr>\n",
       "    <tr>\n",
       "      <td>15059</td>\n",
       "      <td>cc0945a961</td>\n",
       "      <td>alredy had my chocolate  it is impossible to ...</td>\n",
       "      <td>it is impossible to resist ;)</td>\n",
       "      <td>positive</td>\n",
       "      <td>alredy had my chocolate it is impossible to re...</td>\n",
       "    </tr>\n",
       "  </tbody>\n",
       "</table>\n",
       "</div>"
      ],
      "text/plain": [
       "           textID                                               text  \\\n",
       "15722  5c452788b2  The fam back on the Big Island said the vog ha...   \n",
       "6692   77e8ffdd9b             why did i agree to work a double shift   \n",
       "25433  a7ab603a60   I`ve had that 'problem' too, being charmed fa...   \n",
       "14801  50478b34e4  I know I`m already a week behind on FF. Will T...   \n",
       "15059  cc0945a961   alredy had my chocolate  it is impossible to ...   \n",
       "\n",
       "                                selected_text sentiment  \\\n",
       "15722                                     bad  negative   \n",
       "6692   why did i agree to work a double shift   neutral   \n",
       "25433                               'problem'  negative   \n",
       "14801                                problems  negative   \n",
       "15059           it is impossible to resist ;)  positive   \n",
       "\n",
       "                                           our_selection  \n",
       "15722  the back on the big said the vog has been so b...  \n",
       "6692              why did i agree to work a double shift  \n",
       "25433  i`ve had that 'problem' being charmed i mean. ...  \n",
       "14801  i know i`m already a week on ff. will try to g...  \n",
       "15059  alredy had my chocolate it is impossible to re...  "
      ]
     },
     "execution_count": 435,
     "metadata": {},
     "output_type": "execute_result"
    }
   ],
   "source": [
    "X_test.head()"
   ]
  },
  {
   "cell_type": "code",
   "execution_count": 298,
   "metadata": {},
   "outputs": [],
   "source": [
    "sample_submission=sample_submission.drop('selected_text',axis=1)\n",
    "for i in range(test_data.shape[0]):\n",
    "    sentence=test_data['text'].iloc[i]\n",
    "    if len(sentence.split())>2:\n",
    "        prediction=predict(sentence)\n",
    "    else:\n",
    "        prediction=sentence\n",
    "    sample_submission.at[i,'selected_text']=prediction"
   ]
  },
  {
   "cell_type": "code",
   "execution_count": 465,
   "metadata": {},
   "outputs": [],
   "source": [
    "sample_submission.to_csv('submission.csv',index=False)"
   ]
  },
  {
   "cell_type": "code",
   "execution_count": 432,
   "metadata": {},
   "outputs": [
    {
     "data": {
      "text/html": [
       "<div>\n",
       "<style scoped>\n",
       "    .dataframe tbody tr th:only-of-type {\n",
       "        vertical-align: middle;\n",
       "    }\n",
       "\n",
       "    .dataframe tbody tr th {\n",
       "        vertical-align: top;\n",
       "    }\n",
       "\n",
       "    .dataframe thead th {\n",
       "        text-align: right;\n",
       "    }\n",
       "</style>\n",
       "<table border=\"1\" class=\"dataframe\">\n",
       "  <thead>\n",
       "    <tr style=\"text-align: right;\">\n",
       "      <th></th>\n",
       "      <th>textID</th>\n",
       "      <th>selected_text</th>\n",
       "    </tr>\n",
       "  </thead>\n",
       "  <tbody>\n",
       "    <tr>\n",
       "      <td>0</td>\n",
       "      <td>f87dea47db</td>\n",
       "      <td>last session of the day</td>\n",
       "    </tr>\n",
       "    <tr>\n",
       "      <td>1</td>\n",
       "      <td>96d74cb729</td>\n",
       "      <td>shanghai is also really exciting (precisely --...</td>\n",
       "    </tr>\n",
       "    <tr>\n",
       "      <td>2</td>\n",
       "      <td>eee518ae67</td>\n",
       "      <td>recession hit veronique branquinho, she has to...</td>\n",
       "    </tr>\n",
       "    <tr>\n",
       "      <td>3</td>\n",
       "      <td>01082688c6</td>\n",
       "      <td>happy bday!</td>\n",
       "    </tr>\n",
       "    <tr>\n",
       "      <td>4</td>\n",
       "      <td>33987a8ee5</td>\n",
       "      <td>- i like</td>\n",
       "    </tr>\n",
       "  </tbody>\n",
       "</table>\n",
       "</div>"
      ],
      "text/plain": [
       "       textID                                      selected_text\n",
       "0  f87dea47db                            last session of the day\n",
       "1  96d74cb729  shanghai is also really exciting (precisely --...\n",
       "2  eee518ae67  recession hit veronique branquinho, she has to...\n",
       "3  01082688c6                                        happy bday!\n",
       "4  33987a8ee5                                           - i like"
      ]
     },
     "execution_count": 432,
     "metadata": {},
     "output_type": "execute_result"
    }
   ],
   "source": [
    "sample_submission.head()"
   ]
  },
  {
   "cell_type": "code",
   "execution_count": null,
   "metadata": {},
   "outputs": [],
   "source": []
  }
 ],
 "metadata": {
  "kernelspec": {
   "display_name": "Python 3",
   "language": "python",
   "name": "python3"
  },
  "language_info": {
   "codemirror_mode": {
    "name": "ipython",
    "version": 3
   },
   "file_extension": ".py",
   "mimetype": "text/x-python",
   "name": "python",
   "nbconvert_exporter": "python",
   "pygments_lexer": "ipython3",
   "version": "3.7.4"
  }
 },
 "nbformat": 4,
 "nbformat_minor": 1
}
